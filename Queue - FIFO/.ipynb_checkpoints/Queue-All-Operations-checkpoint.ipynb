{
 "cells": [
  {
   "cell_type": "code",
   "execution_count": 19,
   "id": "41801c04-e8fa-49e7-bfb7-3b81f7e67d47",
   "metadata": {},
   "outputs": [
    {
     "name": "stdout",
     "output_type": "stream",
     "text": [
      "10\n",
      "\n",
      "10\n",
      "11\n",
      "12\n",
      "13\n",
      "\n",
      "11\n",
      "12\n",
      "13\n"
     ]
    }
   ],
   "source": [
    "'''\n",
    "Queue is First In First out approach. Here First In Operation has O(1).  First Out operation has O(1)\n",
    "'''\n",
    "\n",
    "class Node:\n",
    "    def __init__(self, value):\n",
    "        self.value = value\n",
    "        self.next = None\n",
    "\n",
    "class Queue:\n",
    "    def __init__(self, value):\n",
    "        new_node = Node(value)\n",
    "        self.first = new_node\n",
    "        self.last = new_node\n",
    "        self.length = 1\n",
    "\n",
    "    def print_list(self):\n",
    "        temp = self.first\n",
    "        while temp is not None:\n",
    "            print(temp.value)\n",
    "            temp = temp.next\n",
    "\n",
    "    def Enqueue(self, value):\n",
    "        new_node = Node(value)\n",
    "        if self.length == 0:\n",
    "            self.first = new_node\n",
    "            self.last = new_node\n",
    "        else:\n",
    "            self.last.next = new_node #the code can word using only this line also as per our logic\n",
    "            self.last = new_node\n",
    "            self.length +=1\n",
    "            \n",
    "    def Dequeue(self):\n",
    "        if self.length == 0:\n",
    "            return None\n",
    "        elif self.length == 1:\n",
    "            self.first = None\n",
    "            self.last = None\n",
    "        else:\n",
    "            temp = self.first\n",
    "            self.first = self.first.next\n",
    "            temp.next = None\n",
    "        self.length -=1\n",
    "        \n",
    "\n",
    "myQueue = Queue(10)\n",
    "myQueue.print_list()\n",
    "print()\n",
    "\n",
    "myQueue.Enqueue(11)\n",
    "myQueue.Enqueue(12)\n",
    "myQueue.Enqueue(13)\n",
    "myQueue.print_list()\n",
    "print()\n",
    "\n",
    "myQueue.Dequeue()\n",
    "myQueue.print_list()    "
   ]
  },
  {
   "cell_type": "code",
   "execution_count": null,
   "id": "63de180a-cb7d-413b-a671-62cadf6011ab",
   "metadata": {},
   "outputs": [],
   "source": []
  },
  {
   "cell_type": "code",
   "execution_count": null,
   "id": "4042c0e8-c888-42c2-9211-b25388b9442d",
   "metadata": {},
   "outputs": [],
   "source": []
  },
  {
   "cell_type": "code",
   "execution_count": null,
   "id": "ce64376c-5da1-405a-a93e-889977ab1788",
   "metadata": {},
   "outputs": [],
   "source": []
  }
 ],
 "metadata": {
  "kernelspec": {
   "display_name": "Python 3 (ipykernel)",
   "language": "python",
   "name": "python3"
  },
  "language_info": {
   "codemirror_mode": {
    "name": "ipython",
    "version": 3
   },
   "file_extension": ".py",
   "mimetype": "text/x-python",
   "name": "python",
   "nbconvert_exporter": "python",
   "pygments_lexer": "ipython3",
   "version": "3.12.7"
  }
 },
 "nbformat": 4,
 "nbformat_minor": 5
}
