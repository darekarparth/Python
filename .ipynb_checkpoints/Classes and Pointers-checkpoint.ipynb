{
 "cells": [
  {
   "cell_type": "code",
   "execution_count": 14,
   "id": "d6afd5ee-216c-49d8-bd05-820e050e0d3e",
   "metadata": {},
   "outputs": [
    {
     "name": "stdout",
     "output_type": "stream",
     "text": [
      "green\n",
      "blue\n",
      "red\n"
     ]
    }
   ],
   "source": [
    "#Classes\n",
    "class Cookie:\n",
    "    def __init__(self, color):\n",
    "        self.color = color\n",
    "\n",
    "    def get_color(self):\n",
    "        return self.color\n",
    "\n",
    "    def set_color(self, color):\n",
    "        self.color = color\n",
    "        \n",
    "cookie_one = Cookie('green')\n",
    "cookie_two = Cookie('blue')\n",
    "\n",
    "print(cookie_one.get_color())\n",
    "print(cookie_two.get_color())\n",
    "\n",
    "cookie_one.set_color('red')\n",
    "print(cookie_one.get_color())"
   ]
  },
  {
   "cell_type": "code",
   "execution_count": 25,
   "id": "6e5b28f2-0e52-43fc-9461-a0c1497670d3",
   "metadata": {},
   "outputs": [
    {
     "name": "stdout",
     "output_type": "stream",
     "text": [
      "Before num2 value is updated\n",
      "num1 = 11\n",
      "num2 = 11\n",
      "\n",
      "num1 points to: 140705370745592\n",
      "num2 points to 140705370745592\n",
      "\n",
      "After this num2 value is updated\n",
      "num1 = 11\n",
      "num2 = 22\n",
      "\n",
      "num1 points to: 140705370745592\n",
      "num2 points to 140705370745944\n"
     ]
    }
   ],
   "source": [
    "# Pointer\n",
    "# Consider Intergers or any variable as a pointer --> to the memory address of value\n",
    "num1 = 11  # here variable num1 is pointing to memory address of Value 11. Python works this way\n",
    "num2 = num1\n",
    "\n",
    "print(\"Before num2 value is updated\")\n",
    "print(\"num1 =\", num1 )\n",
    "print(\"num2 =\", num2 )\n",
    "\n",
    "print(\"\\nnum1 points to:\", id(num1) )\n",
    "print(\"num2 points to\", id(num2) )\n",
    "\n",
    "\n",
    "num2 = 22\n",
    "print(\"\\nAfter this num2 value is updated\")\n",
    "print(\"num1 =\", num1 )\n",
    "print(\"num2 =\", num2 )\n",
    "\n",
    "print(\"\\nnum1 points to:\", id(num1) )\n",
    "print(\"num2 points to\", id(num2) )"
   ]
  },
  {
   "cell_type": "code",
   "execution_count": 35,
   "id": "34a0be49-e029-4ba2-8aab-32b72749eeea",
   "metadata": {},
   "outputs": [
    {
     "name": "stdout",
     "output_type": "stream",
     "text": [
      "Before dict1 value is updated\n",
      "dict1 = {'value': 11}\n",
      "dict2 = {'value': 11}\n",
      "\n",
      "dict1 points to: 1942492194752\n",
      "dict2 points to 1942492194752\n",
      "\n",
      "After dict1 value is updated\n",
      "dict1 = {'value': 22}\n",
      "dict2 = {'value': 22}\n",
      "\n",
      "dict1 points to: 1942492194752\n",
      "dict2 points to 1942492194752\n",
      "\n",
      "After dict1 value is updated\n",
      "dict1 = {'value': 22}\n",
      "dict2 = {'value': 22}\n",
      "\n",
      "dict1 points to: 1942492194752\n",
      "dict2 points to 1942491826432\n"
     ]
    }
   ],
   "source": [
    "# Dictionary\n",
    "\n",
    "dict1 = {'value':11}\n",
    "dict2 = dict1\n",
    "\n",
    "print(\"Before dict1 value is updated\")\n",
    "print(\"dict1 =\", dict1)\n",
    "print(\"dict2 =\", dict2)\n",
    "\n",
    "print(\"\\ndict1 points to:\", id(dict1) )\n",
    "print(\"dict2 points to\", id(dict2) )\n",
    "\n",
    "\n",
    "dict2['value'] = 22\n",
    "print(\"\\nAfter dict2 value is updated\")\n",
    "print(\"dict1 =\", dict1)\n",
    "print(\"dict2 =\", dict2)\n",
    "\n",
    "print(\"\\ndict1 points to:\", id(dict1) )\n",
    "print(\"dict2 points to\", id(dict2) )\n",
    "\n",
    "\n",
    "dict2 = {'value':22}\n",
    "print(\"\\nAfter dict2 value is updated\")\n",
    "print(\"dict1 =\", dict1)\n",
    "print(\"dict2 =\", dict2)\n",
    "\n",
    "print(\"\\ndict1 points to:\", id(dict1) )\n",
    "print(\"dict2 points to\", id(dict2) )\n"
   ]
  },
  {
   "cell_type": "code",
   "execution_count": null,
   "id": "15a97227-3b2f-4bb7-a32a-5151b638c04c",
   "metadata": {},
   "outputs": [],
   "source": []
  }
 ],
 "metadata": {
  "kernelspec": {
   "display_name": "Python 3 (ipykernel)",
   "language": "python",
   "name": "python3"
  },
  "language_info": {
   "codemirror_mode": {
    "name": "ipython",
    "version": 3
   },
   "file_extension": ".py",
   "mimetype": "text/x-python",
   "name": "python",
   "nbconvert_exporter": "python",
   "pygments_lexer": "ipython3",
   "version": "3.12.7"
  }
 },
 "nbformat": 4,
 "nbformat_minor": 5
}
