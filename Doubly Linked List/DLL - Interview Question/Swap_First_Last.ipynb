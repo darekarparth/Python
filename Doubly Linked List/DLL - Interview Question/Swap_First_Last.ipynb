{
 "cells": [
  {
   "cell_type": "code",
   "execution_count": 63,
   "id": "e2a8adbb-dc9b-4ba2-9351-9c967679bfdc",
   "metadata": {},
   "outputs": [
    {
     "name": "stdout",
     "output_type": "stream",
     "text": [
      "1\n",
      "2\n",
      "3\n",
      "4\n",
      "5\n",
      "6\n",
      "7\n",
      "\n",
      "7\n",
      "2\n",
      "3\n",
      "4\n",
      "5\n",
      "6\n",
      "1\n"
     ]
    }
   ],
   "source": [
    "class Node:\n",
    "    def __init__(self, value):\n",
    "        self.value =  value\n",
    "        self.next = None\n",
    "        self.prev = None\n",
    "\n",
    "class DoublyLinkedList:\n",
    "    def __init__(self, value):\n",
    "        new_node = Node(value)\n",
    "        self.head = new_node\n",
    "        self.tail = new_node\n",
    "        self.length = 1\n",
    "\n",
    "    def print_list(self):\n",
    "        temp = self.head\n",
    "        while temp:\n",
    "            print(temp.value)\n",
    "            temp = temp.next\n",
    "\n",
    "    def append_list(self, value):\n",
    "        new_node = Node(value)\n",
    "        if self.length == 0:\n",
    "            self.head = new_node\n",
    "            self.tail = new_node\n",
    "        else:\n",
    "            self.tail.next = new_node\n",
    "            new_node.prev = self.tail\n",
    "            self.tail = new_node\n",
    "        self.length += 1\n",
    "\n",
    "    def swap_first_Last(self):\n",
    "        if self.length == 0:\n",
    "            return None\n",
    "        first = self.head\n",
    "        current1 = self.head\n",
    "        last = self.tail\n",
    "        current2 = self.tail\n",
    "        while current1.next and current2.prev:\n",
    "            current1 = current1.next\n",
    "            current2 = current2.prev\n",
    "        last = current1\n",
    "        first = current2\n",
    "        first.value, last.value = current1.value , current2.value\n",
    "              \n",
    "my_DoublyLinkedList = DoublyLinkedList(1)\n",
    "my_DoublyLinkedList.append_list(2)\n",
    "my_DoublyLinkedList.append_list(3)\n",
    "my_DoublyLinkedList.append_list(4)\n",
    "my_DoublyLinkedList.append_list(5)\n",
    "my_DoublyLinkedList.append_list(6)\n",
    "my_DoublyLinkedList.append_list(7)\n",
    "my_DoublyLinkedList.print_list()\n",
    "print()\n",
    "my_DoublyLinkedList.swap_first_Last()\n",
    "my_DoublyLinkedList.print_list()"
   ]
  },
  {
   "cell_type": "code",
   "execution_count": null,
   "id": "5571ceab-ddf3-433d-ba68-bfacf91f19d0",
   "metadata": {},
   "outputs": [],
   "source": []
  },
  {
   "cell_type": "code",
   "execution_count": null,
   "id": "65dbb73a-b46a-445e-bb4c-c1069b2bd2ad",
   "metadata": {},
   "outputs": [],
   "source": []
  },
  {
   "cell_type": "code",
   "execution_count": null,
   "id": "912d9cf4-724e-4057-ba5c-f2b313e54166",
   "metadata": {},
   "outputs": [],
   "source": []
  },
  {
   "cell_type": "code",
   "execution_count": null,
   "id": "f91dac01-9036-4bf8-8fb6-047eae1de820",
   "metadata": {},
   "outputs": [],
   "source": []
  }
 ],
 "metadata": {
  "kernelspec": {
   "display_name": "Python 3 (ipykernel)",
   "language": "python",
   "name": "python3"
  },
  "language_info": {
   "codemirror_mode": {
    "name": "ipython",
    "version": 3
   },
   "file_extension": ".py",
   "mimetype": "text/x-python",
   "name": "python",
   "nbconvert_exporter": "python",
   "pygments_lexer": "ipython3",
   "version": "3.12.7"
  }
 },
 "nbformat": 4,
 "nbformat_minor": 5
}
