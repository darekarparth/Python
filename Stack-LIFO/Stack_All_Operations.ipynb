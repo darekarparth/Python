{
 "cells": [
  {
   "cell_type": "code",
   "execution_count": 6,
   "id": "6908ef25-60d4-42d5-a159-5b10ba173d98",
   "metadata": {},
   "outputs": [
    {
     "name": "stdout",
     "output_type": "stream",
     "text": [
      "10\n",
      "\n",
      "13\n",
      "12\n",
      "11\n",
      "10\n",
      "\n",
      "12\n",
      "11\n",
      "10\n"
     ]
    }
   ],
   "source": [
    "'''\n",
    "In stack, we have Last In First Out Methodology, where we insert and delete only from One end which is TOP.\n",
    "here all operations has O(1)\n",
    "\n",
    "it is common to implement Stack with List\n",
    "'''\n",
    "\n",
    "class Node:\n",
    "    def __init__(self, value):\n",
    "        self.value = value\n",
    "        self.next = None\n",
    "\n",
    "class Stack:\n",
    "    def __init__(self, value):\n",
    "        new_node = Node(value)\n",
    "        self.top = new_node\n",
    "        self.height =1\n",
    "\n",
    "    def print_stack(self):\n",
    "        temp = self.top\n",
    "        while temp is not None:\n",
    "            print(temp.value)\n",
    "            temp = temp.next\n",
    "\n",
    "    def push(self, value):\n",
    "        new_node = Node(value)\n",
    "        if self.height == 0:\n",
    "            self.top = new_node\n",
    "        else:\n",
    "            new_node.next = self.top\n",
    "            self.top = new_node\n",
    "        self.height += 1\n",
    "\n",
    "    def pop(self):\n",
    "        if self.height == 0:\n",
    "            return None\n",
    "        else:\n",
    "            temp = self.top\n",
    "            self.top = self.top.next #the code can also work with only this line as per logic\n",
    "            temp.next = None\n",
    "            self.height -= 1 \n",
    "\n",
    "mystack = Stack(10)\n",
    "mystack.print_stack()\n",
    "print()\n",
    "\n",
    "mystack.push(11)\n",
    "mystack.push(12)\n",
    "mystack.push(13)\n",
    "mystack.print_stack()\n",
    "print()\n",
    "\n",
    "mystack.pop()\n",
    "mystack.print_stack()\n",
    "\n",
    "        "
   ]
  },
  {
   "cell_type": "code",
   "execution_count": null,
   "id": "0db4756f-8f5a-4c28-987a-c5b4e23a1302",
   "metadata": {},
   "outputs": [],
   "source": []
  },
  {
   "cell_type": "code",
   "execution_count": null,
   "id": "e85afeb4-f947-44c9-a047-e8dba66fc9bf",
   "metadata": {},
   "outputs": [],
   "source": []
  }
 ],
 "metadata": {
  "kernelspec": {
   "display_name": "Python 3 (ipykernel)",
   "language": "python",
   "name": "python3"
  },
  "language_info": {
   "codemirror_mode": {
    "name": "ipython",
    "version": 3
   },
   "file_extension": ".py",
   "mimetype": "text/x-python",
   "name": "python",
   "nbconvert_exporter": "python",
   "pygments_lexer": "ipython3",
   "version": "3.12.7"
  }
 },
 "nbformat": 4,
 "nbformat_minor": 5
}
