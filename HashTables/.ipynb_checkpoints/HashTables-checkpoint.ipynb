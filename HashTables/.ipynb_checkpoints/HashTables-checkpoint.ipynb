{
 "cells": [
  {
   "cell_type": "code",
   "execution_count": 53,
   "id": "ec7c3297-7a99-4f3e-859f-fe7e5ef09044",
   "metadata": {},
   "outputs": [
    {
     "name": "stdout",
     "output_type": "stream",
     "text": [
      "0 :  [['wfa', 70], ['we', 70]]\n",
      "1 :  [['fwqe', 10]]\n",
      "2 :  [['qwdqw', 70]]\n",
      "3 :  [['uky', 70]]\n",
      "4 :  None\n",
      "5 :  None\n",
      "6 :  [['Bolts', 1400], ['Washers', 50], ['screws', 70], ['lumbar', 400]]\n",
      "\n",
      "2\n",
      "1400\n",
      "400\n",
      "\n",
      "['wfa', 'we', 'fwqe', 'qwdqw', 'uky', 'Bolts', 'Washers', 'screws', 'lumbar']\n"
     ]
    }
   ],
   "source": [
    "'''\n",
    "Hash methode has time complexity of 0(1)\n",
    "'''\n",
    "\n",
    "class HashTable:\n",
    "    def __init__(self, size = 7):\n",
    "        self.data_map = [None]*size   #Array defined into Size\n",
    "\n",
    "    def __hash(self, key): #hash function\n",
    "        my_hash = 0\n",
    "        for letter in key:\n",
    "            my_hash = (my_hash + ord(letter) * 23)%len(self.data_map)\n",
    "            return my_hash\n",
    "\n",
    "    def print_table(self):\n",
    "        for i, val in enumerate(self.data_map):\n",
    "            print(i, \": \", val)\n",
    "\n",
    "    def set_item(self, key, value):\n",
    "        index = self.__hash(key)\n",
    "        if self.data_map[index] == None:\n",
    "            self.data_map[index] = []\n",
    "        self.data_map[index].append([key, value])\n",
    "\n",
    "    def get_index(self, key):\n",
    "        index = self.__hash(key)\n",
    "        if self.data_map[index] == None:\n",
    "            self.data_map[index] = []\n",
    "        return index\n",
    "\n",
    "    def get_item(self, key):\n",
    "        index = self.__hash(key)\n",
    "        if self.data_map[index] is not None:\n",
    "            for i in range(len(self.data_map[index])):\n",
    "                if self.data_map[index][i][0] == key:\n",
    "                    return self.data_map[index][i][1]\n",
    "        return None\n",
    "\n",
    "    def get_key(self):\n",
    "        all_Keys = []\n",
    "        for i in range(len(self.data_map)):\n",
    "            if self.data_map[i] is not None:\n",
    "                for j in range(len(self.data_map[i])):\n",
    "                    all_Keys.append(self.data_map[i][j][0])\n",
    "        return all_Keys;\n",
    "        \n",
    "            \n",
    "        \n",
    "\n",
    "my_hash_table = HashTable()\n",
    "# my_hash_table.print_table()\n",
    "\n",
    "my_hash_table.set_item(\"Bolts\", 1400)\n",
    "my_hash_table.set_item(\"Washers\", 50)\n",
    "my_hash_table.set_item(\"screws\", 70)\n",
    "my_hash_table.set_item(\"lumbar\", 400)\n",
    "my_hash_table.set_item(\"fwqe\", 10)\n",
    "my_hash_table.set_item(\"qwdqw\", 70)\n",
    "my_hash_table.set_item(\"uky\", 70)\n",
    "my_hash_table.set_item(\"wfa\", 70)\n",
    "my_hash_table.set_item(\"we\", 70)\n",
    "my_hash_table.print_table()\n",
    "print()\n",
    "print(my_hash_table.get_index(\"qwdqw\"))\n",
    "print(my_hash_table.get_item(\"Bolts\"))\n",
    "print(my_hash_table.get_item(\"lumbar\"))\n",
    "print()\n",
    "print(my_hash_table.get_key())"
   ]
  },
  {
   "cell_type": "code",
   "execution_count": null,
   "id": "99437386-9389-4461-a76c-29980923c24b",
   "metadata": {},
   "outputs": [],
   "source": []
  },
  {
   "cell_type": "code",
   "execution_count": null,
   "id": "f370bf62-e395-48f4-918d-4b9abfde643e",
   "metadata": {},
   "outputs": [],
   "source": []
  },
  {
   "cell_type": "code",
   "execution_count": null,
   "id": "cbf66266-f0f9-4bb9-99b2-021b011a0fd0",
   "metadata": {},
   "outputs": [],
   "source": []
  }
 ],
 "metadata": {
  "kernelspec": {
   "display_name": "Python 3 (ipykernel)",
   "language": "python",
   "name": "python3"
  },
  "language_info": {
   "codemirror_mode": {
    "name": "ipython",
    "version": 3
   },
   "file_extension": ".py",
   "mimetype": "text/x-python",
   "name": "python",
   "nbconvert_exporter": "python",
   "pygments_lexer": "ipython3",
   "version": "3.12.7"
  }
 },
 "nbformat": 4,
 "nbformat_minor": 5
}
