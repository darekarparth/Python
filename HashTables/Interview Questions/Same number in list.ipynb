{
 "cells": [
  {
   "cell_type": "code",
   "execution_count": 3,
   "id": "202dbc56-13ac-4d14-8894-643332a2cbcf",
   "metadata": {},
   "outputs": [
    {
     "name": "stdout",
     "output_type": "stream",
     "text": [
      "True\n"
     ]
    }
   ],
   "source": [
    "'''\n",
    "Finding a same number in list\n",
    "'''\n",
    "\n",
    "def same_item_in_List(List1, List2):\n",
    "    for i in List1:\n",
    "        for j in List2:\n",
    "            if i == j:\n",
    "                return True\n",
    "    return False\n",
    "\n",
    "List1 = [1, 4, 9]\n",
    "List2 = [9, 3, 6]\n",
    "\n",
    "print(same_item_in_List(List1, List2))\n",
    "\n",
    "\n"
   ]
  },
  {
   "cell_type": "code",
   "execution_count": 5,
   "id": "27202771-8232-442f-bf75-b43d7fea9537",
   "metadata": {},
   "outputs": [
    {
     "name": "stdout",
     "output_type": "stream",
     "text": [
      "True\n"
     ]
    }
   ],
   "source": [
    "def same_item_in_List(List1, List2):\n",
    "    my_dict = {}\n",
    "    for i in List1:\n",
    "        my_dict[i] = True\n",
    "\n",
    "    for j in List2:\n",
    "        if j in my_dict:\n",
    "            return True\n",
    "    return False\n",
    "\n",
    "List1 = [1, 4, 9]\n",
    "List2 = [9, 3, 6]\n",
    "\n",
    "print(same_item_in_List(List1, List2))"
   ]
  },
  {
   "cell_type": "code",
   "execution_count": null,
   "id": "a91fcf7a-dfd1-4943-8049-d3c88a94915e",
   "metadata": {},
   "outputs": [],
   "source": []
  }
 ],
 "metadata": {
  "kernelspec": {
   "display_name": "Python 3 (ipykernel)",
   "language": "python",
   "name": "python3"
  },
  "language_info": {
   "codemirror_mode": {
    "name": "ipython",
    "version": 3
   },
   "file_extension": ".py",
   "mimetype": "text/x-python",
   "name": "python",
   "nbconvert_exporter": "python",
   "pygments_lexer": "ipython3",
   "version": "3.12.7"
  }
 },
 "nbformat": 4,
 "nbformat_minor": 5
}
