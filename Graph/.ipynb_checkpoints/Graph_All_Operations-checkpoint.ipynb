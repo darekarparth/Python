{
 "cells": [
  {
   "cell_type": "code",
   "execution_count": 119,
   "id": "9c002e61-a53c-4978-beb0-f3872a7f2474",
   "metadata": {},
   "outputs": [
    {
     "name": "stdout",
     "output_type": "stream",
     "text": [
      "1 : []\n",
      "2 : []\n",
      "\n",
      "1 : [2]\n",
      "2 : [1]\n",
      "\n",
      "2 : [1]\n"
     ]
    }
   ],
   "source": [
    "'''Graph contains vortex/nodes and a weighted edges/connections which are Bi-Directional\n",
    "\n",
    "                    (A)\n",
    "                 4        6 \n",
    "            (B)             (E)\n",
    " \n",
    "               9         3   \n",
    "               (c)      (D)\n",
    "Here A,B,C,D,E are vertex and there is bidirectional connection between them called edges or connections that can have weight as 4,6,9,3\n",
    "The Big 0 can be different in different cases.\n",
    "\n",
    "Above Graph in Adjecent list should look like:\n",
    "\n",
    "{\n",
    "A: [B, D]\n",
    "B: [A, C]\n",
    "C: [B, D] \n",
    "D: [C, E]\n",
    "E: [D, A]\n",
    "\n",
    "}\n",
    "\n",
    "'''\n",
    "# Adding a vertex, edge\n",
    "\n",
    "class Graph:\n",
    "    def __init__(self):\n",
    "        self.adj_list = {} #Empty Dictionary type defined\n",
    "\n",
    "    def print_graph(self):\n",
    "        for vertex in self.adj_list:\n",
    "            print(vertex , ':', self.adj_list[vertex])\n",
    "    \n",
    "    def add_Vertex(self,vertex):\n",
    "        if vertex not in self.adj_list.keys():\n",
    "            self.adj_list[vertex] = []\n",
    "            return True\n",
    "        return False\n",
    "\n",
    "    def add_edge(self, v1, v2):\n",
    "        if v1 in self.adj_list.keys() and v2 in self.adj_list.keys():\n",
    "            self.adj_list[v1].append(v2)\n",
    "            self.adj_list[v2].append(v1)\n",
    "           \n",
    "    def remove_vertex(self, vertex):\n",
    "        self.adj_list.pop(vertex)\n",
    "\n",
    "    def remove_edge(self, edge):\n",
    "        self\n",
    "\n",
    "\n",
    "my_graph = Graph()\n",
    "my_graph.add_Vertex(1)\n",
    "my_graph.add_Vertex(2)\n",
    "my_graph.print_graph()\n",
    "print()\n",
    "my_graph.add_edge(1,2)\n",
    "my_graph.print_graph()\n",
    "print()\n",
    "my_graph.remove_vertex(1)\n",
    "my_graph.print_graph()\n"
   ]
  },
  {
   "cell_type": "code",
   "execution_count": null,
   "id": "973c8b50-7f72-4b82-8f58-6b04b8f8b8c3",
   "metadata": {},
   "outputs": [],
   "source": []
  },
  {
   "cell_type": "code",
   "execution_count": null,
   "id": "216ac0d6-a2d0-4c25-a7d8-240d4a59e5c6",
   "metadata": {},
   "outputs": [],
   "source": []
  },
  {
   "cell_type": "code",
   "execution_count": null,
   "id": "387f715f-84d7-4867-81e3-2652f782202b",
   "metadata": {},
   "outputs": [],
   "source": []
  },
  {
   "cell_type": "code",
   "execution_count": null,
   "id": "f69ded1c-5fe6-42b1-8ec4-0f42caabbe75",
   "metadata": {},
   "outputs": [],
   "source": []
  }
 ],
 "metadata": {
  "kernelspec": {
   "display_name": "Python 3 (ipykernel)",
   "language": "python",
   "name": "python3"
  },
  "language_info": {
   "codemirror_mode": {
    "name": "ipython",
    "version": 3
   },
   "file_extension": ".py",
   "mimetype": "text/x-python",
   "name": "python",
   "nbconvert_exporter": "python",
   "pygments_lexer": "ipython3",
   "version": "3.12.7"
  }
 },
 "nbformat": 4,
 "nbformat_minor": 5
}
