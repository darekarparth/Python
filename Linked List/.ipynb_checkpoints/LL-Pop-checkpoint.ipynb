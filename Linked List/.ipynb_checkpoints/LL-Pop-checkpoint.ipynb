{
 "cells": [
  {
   "cell_type": "code",
   "execution_count": 133,
   "id": "ed4e1abe-8303-46d2-8698-a2db9a4b8ba4",
   "metadata": {},
   "outputs": [
    {
     "name": "stdout",
     "output_type": "stream",
     "text": [
      "1\n",
      "2\n",
      "3\n",
      "\n",
      "1\n",
      "2\n"
     ]
    }
   ],
   "source": [
    "class Node:\n",
    "    def __init__(self, value):\n",
    "        self.value = value\n",
    "        self.next = None\n",
    "\n",
    "class LinkedList:\n",
    "    def __init__(self, value):\n",
    "        new_node = Node(value)\n",
    "        self.head = new_node\n",
    "        self.tail = new_node\n",
    "        self.length = 1\n",
    "        \n",
    "    def print_list(self):\n",
    "        temp = self.head\n",
    "        while temp is not None:\n",
    "            print(temp.value)\n",
    "            temp = temp.next\n",
    "\n",
    "    def append_List(self, value):\n",
    "         new_node = Node(value)\n",
    "         if self.head == 0:\n",
    "             self.head = new_node\n",
    "             self.tail = new_node\n",
    "         else:\n",
    "             self.tail.next = new_node\n",
    "             self.tail = new_node\n",
    "         self.length +=1\n",
    "        \n",
    "    def pop_list(self):\n",
    "        if self.length == 0:\n",
    "            return 0\n",
    "        temp = self.head\n",
    "        pre = self.head\n",
    "        while (temp.next):\n",
    "            pre = temp\n",
    "            temp = temp.next\n",
    "        self.tail = pre\n",
    "        self.tail.next = None\n",
    "        self.length -= 1\n",
    "        if self.length == 0:\n",
    "            self.head = None\n",
    "            self.tail = None\n",
    "        return temp.value\n",
    "        \n",
    "my_LinkedList = LinkedList(1)\n",
    "my_LinkedList.append_List(2)\n",
    "my_LinkedList.append_List(3)\n",
    "my_LinkedList.print_list()\n",
    "print()\n",
    "my_LinkedList.pop_list()\n",
    "my_LinkedList.print_list()"
   ]
  },
  {
   "cell_type": "code",
   "execution_count": null,
   "id": "fe8a7d28-bfc2-42b9-b2bd-e56c2c2d8b0f",
   "metadata": {},
   "outputs": [],
   "source": []
  },
  {
   "cell_type": "code",
   "execution_count": null,
   "id": "1d57ea5c-ae26-495d-a701-5dce191552dd",
   "metadata": {},
   "outputs": [],
   "source": []
  },
  {
   "cell_type": "code",
   "execution_count": null,
   "id": "448003c1-17cc-42bb-8380-cf86636cf918",
   "metadata": {},
   "outputs": [],
   "source": []
  },
  {
   "cell_type": "code",
   "execution_count": null,
   "id": "55696973-25ea-44e7-a8bc-f35a74a96b2b",
   "metadata": {},
   "outputs": [],
   "source": []
  }
 ],
 "metadata": {
  "kernelspec": {
   "display_name": "Python 3 (ipykernel)",
   "language": "python",
   "name": "python3"
  },
  "language_info": {
   "codemirror_mode": {
    "name": "ipython",
    "version": 3
   },
   "file_extension": ".py",
   "mimetype": "text/x-python",
   "name": "python",
   "nbconvert_exporter": "python",
   "pygments_lexer": "ipython3",
   "version": "3.12.7"
  }
 },
 "nbformat": 4,
 "nbformat_minor": 5
}
