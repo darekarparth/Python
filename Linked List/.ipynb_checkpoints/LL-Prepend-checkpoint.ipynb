{
 "cells": [
  {
   "cell_type": "code",
   "execution_count": 18,
   "id": "69ecd757-d4f4-4262-9f24-d5965f32179f",
   "metadata": {},
   "outputs": [
    {
     "name": "stdout",
     "output_type": "stream",
     "text": [
      "1\n",
      "2\n",
      "3\n",
      "4\n",
      "5\n",
      "\n",
      "1\n",
      "2\n",
      "3\n",
      "4\n",
      "\n",
      "3\n",
      "1\n",
      "2\n",
      "3\n",
      "4\n"
     ]
    }
   ],
   "source": [
    "class Node:\n",
    "    def __init__(self, value):\n",
    "        self.value = value\n",
    "        self.next = None\n",
    "\n",
    "class LinkedList:\n",
    "    def __init__(self, value):\n",
    "        new_node = Node(value)\n",
    "        self.head = new_node\n",
    "        self.tail = new_node\n",
    "        self.length = 1\n",
    "        \n",
    "    def print_list(self):\n",
    "        temp = self.head\n",
    "        while temp is not None:\n",
    "            print(temp.value)\n",
    "            temp = temp.next\n",
    "\n",
    "    def append_List(self, value):\n",
    "         new_node = Node(value)\n",
    "         if self.head == 0:\n",
    "             self.head = new_node\n",
    "             self.tail = new_node\n",
    "         else:\n",
    "             self.tail.next = new_node\n",
    "             self.tail = new_node\n",
    "         self.length +=1\n",
    "        \n",
    "    def pop_list(self):\n",
    "        if self.length == 0:\n",
    "            return 0\n",
    "        temp = self.head\n",
    "        pre = self.head\n",
    "        while (temp.next):\n",
    "            pre = temp\n",
    "            temp = temp.next\n",
    "        self.tail = pre\n",
    "        self.tail.next = None\n",
    "        self.length -= 1\n",
    "        if self.length == 0:\n",
    "            self.head = None\n",
    "            self.tail = None\n",
    "        return temp.value\n",
    "\n",
    "    def prepend(self, value):\n",
    "        new_node = Node(value)\n",
    "        if self.length == 0:\n",
    "            self.head = new_node\n",
    "            self.tail = new_node\n",
    "        else:\n",
    "            new_node.next = self.head\n",
    "            self.head = new_node\n",
    "        self.length +=1\n",
    "        \n",
    "my_LinkedList = LinkedList(1)\n",
    "my_LinkedList.append_List(2)\n",
    "my_LinkedList.append_List(3)\n",
    "my_LinkedList.append_List(4)\n",
    "my_LinkedList.append_List(5)\n",
    "my_LinkedList.print_list()\n",
    "print()\n",
    "my_LinkedList.pop_list()\n",
    "my_LinkedList.print_list()\n",
    "print()\n",
    "my_LinkedList.prepend(3)\n",
    "my_LinkedList.print_list()"
   ]
  },
  {
   "cell_type": "code",
   "execution_count": null,
   "id": "7144e7ea-09cf-4653-bd84-23002d6e16d0",
   "metadata": {},
   "outputs": [],
   "source": []
  },
  {
   "cell_type": "code",
   "execution_count": null,
   "id": "37575eb3-a03b-4a56-b529-a49fe0a0780c",
   "metadata": {},
   "outputs": [],
   "source": []
  },
  {
   "cell_type": "code",
   "execution_count": null,
   "id": "6947855e-8850-478c-87c6-51bff5b1a182",
   "metadata": {},
   "outputs": [],
   "source": []
  }
 ],
 "metadata": {
  "kernelspec": {
   "display_name": "Python 3 (ipykernel)",
   "language": "python",
   "name": "python3"
  },
  "language_info": {
   "codemirror_mode": {
    "name": "ipython",
    "version": 3
   },
   "file_extension": ".py",
   "mimetype": "text/x-python",
   "name": "python",
   "nbconvert_exporter": "python",
   "pygments_lexer": "ipython3",
   "version": "3.12.7"
  }
 },
 "nbformat": 4,
 "nbformat_minor": 5
}
