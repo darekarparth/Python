{
 "cells": [
  {
   "cell_type": "code",
   "execution_count": null,
   "id": "4f4cf4ea-61c3-489a-bdf2-b4a87c7908ec",
   "metadata": {},
   "outputs": [],
   "source": [
    "# Linked List contains Head(variable name) which is pointing to the memory address of the first value. That value contains a another node\n",
    "# which is pointing to memory address of next value and so on until it reaches Tail node which points to memory address of Last value. \n",
    "# And node of last value is null \n",
    "\n",
    "# Linked List consist of [Head][Next]--->[Head][Next]--->[Head][Next]. Head consist of Data and \n",
    "# next means memory address of next data Pointer Points to memory address of next Data\n",
    "  '''\n",
    "    llist.head     second             third\n",
    "        |             |                 |\n",
    "        |             |                 |\n",
    "    +----+------+     +----+------+     +----+------+\n",
    "    | 1 | o-------->| 2 | o-------->| 3 | null |\n",
    "    +----+------+     +----+------+     +----+------+\n",
    "'''\n",
    "\n",
    "'''\n",
    "BigO of Linked list operations\n",
    "          LinkedLists Lists\n",
    "Append    O(1)        O(1)\n",
    "Pop       O(n)        O(1)\n",
    "Prepend   O(1)        O(n)\n",
    "Pop First O(1)        O(n)\n",
    "Insert    O(n)        O(n)\n",
    "Remove    O(n)        O(n)\n",
    "Lookup by Index O(n) O(1)\n",
    "Lookup by Value O(n) O(n)\n",
    "'''\n",
    "\n",
    "'''\n",
    "\n",
    "head: {\n",
    "       \"value\": 11,\n",
    "       \"next\": {\n",
    "                \"value\": 3,\n",
    "                 \"next\": {\n",
    "                          \"value\": 23,\n",
    "                          \"next\": {\n",
    "                                   \"value\": 7,\n",
    "                                    \"next\": {\n",
    "                                            \"value\": 4,\n",
    "tail --------------------------->>>>>       \"next\": None\n",
    "                                            }\n",
    "                                  }\n",
    "                          }\n",
    "                }\n",
    "\n",
    "       }\n",
    "'''"
   ]
  },
  {
   "cell_type": "code",
   "execution_count": 18,
   "id": "24c448f1-9c74-47f1-8f36-db9ee54e1006",
   "metadata": {},
   "outputs": [
    {
     "name": "stdout",
     "output_type": "stream",
     "text": [
      "4\n"
     ]
    }
   ],
   "source": [
    "# First prog\n",
    "class Node:\n",
    "    def __init__(self, value):\n",
    "        self.value = value\n",
    "        self.next = next\n",
    "\n",
    "class LinkedList:\n",
    "    def __init__(self, value):\n",
    "        new_node = Node(value)\n",
    "        self.head = new_node\n",
    "        self.tail = new_node\n",
    "        self.length = 1\n",
    "\n",
    "my_linked_list = LinkedList(4)\n",
    "\n",
    "print(my_linked_list.head.value)\n",
    "        "
   ]
  },
  {
   "cell_type": "code",
   "execution_count": 22,
   "id": "f637d781-c00d-49b9-a6e0-c315ce90af4d",
   "metadata": {},
   "outputs": [],
   "source": [
    "# Print LL\n",
    "\n",
    "def print_list(self):\n",
    "    temp = self.head\n",
    "    while temp is not None:\n",
    "        print(temp.value)\n",
    "        temp = temp.next"
   ]
  },
  {
   "cell_type": "code",
   "execution_count": 25,
   "id": "f90680c2-efce-439d-9320-746969f8a270",
   "metadata": {},
   "outputs": [],
   "source": [
    "# Append LL\n",
    "def append_list(self, value):\n",
    "    new_Node = Node(value)\n",
    "    if self.head is None:\n",
    "        self.head = new_node\n",
    "        self.tail = new_node\n",
    "    else:\n",
    "        self.tail.next = new_node\n",
    "        self.tail = new_node\n",
    "    self.length +=1 # increase the length of the linked list by 1"
   ]
  },
  {
   "cell_type": "code",
   "execution_count": 66,
   "id": "ef086dde-d54a-4179-95ac-a5fd3f17e589",
   "metadata": {},
   "outputs": [],
   "source": [
    "# pop\n",
    "\n",
    "def pop_list(self, value):\n",
    "     if self.length == 0:\n",
    "         return 0\n",
    "     temp = self.head\n",
    "     pre = self.head\n",
    "     while(temp.next):\n",
    "         pre = temp\n",
    "         temp = temp.next\n",
    "     self.tail = pre\n",
    "     self.tail.next = None\n",
    "     "
   ]
  },
  {
   "cell_type": "code",
   "execution_count": null,
   "id": "c9e393fa-ace8-40b5-a8eb-b24e45c2973f",
   "metadata": {},
   "outputs": [],
   "source": [
    "# Prepend\n",
    "\n",
    "   def prepend(self, value):\n",
    "         new_node = Node(value)\n",
    "        if self.length == 0:\n",
    "            self.head = new_node\n",
    "            self.tail = new_node\n",
    "        else:\n",
    "            new_node.next = self.head\n",
    "            self.head = new_node\n",
    "       "
   ]
  },
  {
   "cell_type": "code",
   "execution_count": 3,
   "id": "84656b77-6092-48f1-affe-42643bfa6fa8",
   "metadata": {},
   "outputs": [],
   "source": [
    "# Pop First\n",
    "\n",
    "def pop_First(self, value):\n",
    "    if self.length == 0:\n",
    "            return 0\n",
    "    else:\n",
    "        temp = self.head\n",
    "        self.head = self.head.next\n",
    "        temp.next = None\n",
    "    "
   ]
  },
  {
   "cell_type": "code",
   "execution_count": null,
   "id": "2d53edc1-bf9e-43fd-9143-a1579726a9d7",
   "metadata": {},
   "outputs": [],
   "source": [
    "# Get\n",
    "\n",
    "def get(self, index):\n",
    "    if index<0 or index>=self.length:\n",
    "        return 0\n",
    "    temp = self.head\n",
    "    for _ in range(index):\n",
    "        temp = temp.next\n",
    "    return temp.value\n",
    "    "
   ]
  },
  {
   "cell_type": "code",
   "execution_count": 14,
   "id": "22d4954c-9a20-4887-b421-4353127917f8",
   "metadata": {},
   "outputs": [],
   "source": [
    "# Set\n",
    "def set_value(self, index, value):\n",
    "    temp = self.get(index.value)\n",
    "    if temp is not None:\n",
    "        temp.value = value\n",
    "        return True\n",
    "    return false"
   ]
  },
  {
   "cell_type": "code",
   "execution_count": 19,
   "id": "18302b8f-8ed9-44a5-b70d-2e6afcbe0749",
   "metadata": {},
   "outputs": [],
   "source": [
    "# Insert\n",
    "def insert(self, index, value):\n",
    "    if index < 0 or index > self.length:\n",
    "        return False\n",
    "    if index == 0:\n",
    "        return self.prepend(value)\n",
    "    if index == self.length:\n",
    "        return self.append(value)\n",
    "    new_node = Node(value)\n",
    "    temp = self.get(index)\n",
    "    new_node.next = temp.next\n",
    "    temp.next = new_node\n",
    "       \n",
    "         "
   ]
  },
  {
   "cell_type": "code",
   "execution_count": 29,
   "id": "77f9580c-1049-40f2-9eb1-29805adde19f",
   "metadata": {},
   "outputs": [],
   "source": [
    "# Remove\n",
    "def remove(self, index):\n",
    "        if index < 0 or index > self.length:\n",
    "            return False\n",
    "        if index == 0:\n",
    "            return self.pop_First()\n",
    "        if index == self.length - 1:\n",
    "            return self.pop_list()\n",
    "        pre = self.get(index - 1)\n",
    "        temp = pre.next\n",
    "        pre.next = temp.next\n",
    "        temp.next = None"
   ]
  },
  {
   "cell_type": "code",
   "execution_count": 33,
   "id": "98867029-036e-4726-8c1a-554ac891897f",
   "metadata": {},
   "outputs": [
    {
     "ename": "IndentationError",
     "evalue": "unexpected indent (1545332052.py, line 2)",
     "output_type": "error",
     "traceback": [
      "\u001b[1;36m  Cell \u001b[1;32mIn[33], line 2\u001b[1;36m\u001b[0m\n\u001b[1;33m    def reverse(self):\u001b[0m\n\u001b[1;37m    ^\u001b[0m\n\u001b[1;31mIndentationError\u001b[0m\u001b[1;31m:\u001b[0m unexpected indent\n"
     ]
    }
   ],
   "source": [
    "# Reverse\n",
    "def reverse(self):\n",
    "        temp = self.head\n",
    "        self.head = self.tail\n",
    "        self.tail = temp\n",
    "        after = temp.next\n",
    "        before = None\n",
    "        for _ in range(self.length):\n",
    "            after = temp.next\n",
    "            temp.next = before\n",
    "            before = temp\n",
    "            temp = after\n",
    "        \n"
   ]
  },
  {
   "cell_type": "code",
   "execution_count": null,
   "id": "c18322a4-41bd-46d1-bf16-de6c225ae2f3",
   "metadata": {},
   "outputs": [],
   "source": []
  }
 ],
 "metadata": {
  "kernelspec": {
   "display_name": "Python 3 (ipykernel)",
   "language": "python",
   "name": "python3"
  },
  "language_info": {
   "codemirror_mode": {
    "name": "ipython",
    "version": 3
   },
   "file_extension": ".py",
   "mimetype": "text/x-python",
   "name": "python",
   "nbconvert_exporter": "python",
   "pygments_lexer": "ipython3",
   "version": "3.12.7"
  }
 },
 "nbformat": 4,
 "nbformat_minor": 5
}
