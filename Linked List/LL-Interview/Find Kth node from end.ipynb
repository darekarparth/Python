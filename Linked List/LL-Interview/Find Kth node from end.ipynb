{
 "cells": [
  {
   "cell_type": "code",
   "execution_count": null,
   "id": "bf730bde-6588-4e62-b42b-f845b7e1bc0b",
   "metadata": {},
   "outputs": [],
   "source": [
    "'''\n",
    "LL: Find Kth Node From End ( ** Interview Question)\n",
    "Implement the find_kth_from_end function, which takes the LinkedList (ll) and an integer k as input, \n",
    "and returns the k-th node from the end of the linked list WITHOUT USING LENGTH.\n",
    "\n",
    "Given this LinkedList:\n",
    "\n",
    "1 -> 2 -> 3 -> 4\n",
    "\n",
    "If k=1 then return the first node from the end (the last node) which contains the value of 4.\n",
    "\n",
    "If k=2 then return the second node from the end which contains the value of 3, etc.\n",
    "\n",
    "If the index is out of bounds, the program should return None.\n",
    "\n",
    "The find_kth_from_end function should follow these requirements:\n",
    "\n",
    "The function should utilize two pointers, slow and fast, initialized to the head of the linked list.\n",
    "\n",
    "The fast pointer should move k nodes ahead in the list.\n",
    "\n",
    "If the fast pointer becomes None before moving k nodes, the function should return None, as the list is shorter than k nodes.\n",
    "\n",
    "The slow and fast pointers should then move forward in the list at the same time until the fast pointer reaches the end of the list.\n",
    "\n",
    "The function should return the slow pointer, which will be at the k-th position from the end of the list.\n",
    "\n",
    "\n",
    "\n",
    "This is a separate function that is not a method within the LinkedList class. This means you need to indent the function all the way to the LEFT.\n",
    "'''"
   ]
  }
 ],
 "metadata": {
  "kernelspec": {
   "display_name": "Python 3 (ipykernel)",
   "language": "python",
   "name": "python3"
  },
  "language_info": {
   "codemirror_mode": {
    "name": "ipython",
    "version": 3
   },
   "file_extension": ".py",
   "mimetype": "text/x-python",
   "name": "python",
   "nbconvert_exporter": "python",
   "pygments_lexer": "ipython3",
   "version": "3.12.7"
  }
 },
 "nbformat": 4,
 "nbformat_minor": 5
}
