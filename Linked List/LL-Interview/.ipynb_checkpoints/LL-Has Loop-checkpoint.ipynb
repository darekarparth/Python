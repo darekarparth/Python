{
 "cells": [
  {
   "cell_type": "code",
   "execution_count": 17,
   "id": "d98aec53-78b8-4f09-98b0-468c1e416090",
   "metadata": {},
   "outputs": [
    {
     "name": "stdout",
     "output_type": "stream",
     "text": [
      "True\n",
      "\n",
      "False\n"
     ]
    }
   ],
   "source": [
    "\n",
    "'''\n",
    "Write a method called has_loop that is part of the linked list class.\n",
    "\n",
    "The method should be able to detect if there is a cycle or loop present in the linked list.\n",
    "\n",
    "You are required to use Floyd's cycle-finding algorithm (also known as the \"tortoise and the hare\" algorithm) to detect the loop.\n",
    "\n",
    "This algorithm uses two pointers: a slow pointer and a fast pointer. The slow pointer moves one step at a time, \n",
    "while the fast pointer moves two steps at a time. If there is a loop in the linked list, the two pointers will eventually meet at some point. \n",
    "If there is no loop, the fast pointer will reach the end of the list.\n",
    "\n",
    "The method should follow these guidelines:\n",
    "\n",
    "Create two pointers, slow and fast, both initially pointing to the head of the linked list.\n",
    "\n",
    "Traverse the list with the slow pointer moving one step at a time, while the fast pointer moves two steps at a time.\n",
    "\n",
    "If there is a loop in the list, the fast pointer will eventually meet the slow pointer. If this occurs, the method should return True.\n",
    "\n",
    "If the fast pointer reaches the end of the list or encounters a None value, it means there is no loop in the list. \n",
    "In this case, the method should return False.\n",
    "'''\n",
    "class Node:\n",
    "    def __init__(self, value):\n",
    "        self.value = value\n",
    "        self.next = None\n",
    "\n",
    "class LinkedList:\n",
    "    def __init__(self, value):\n",
    "        new_node = Node(value)\n",
    "        self.head = new_node\n",
    "        self.tail = new_node\n",
    "        self.length = 1\n",
    "\n",
    "    def print_List(self):\n",
    "        temp = self.head\n",
    "        while temp is not None:\n",
    "            print(temp.value)\n",
    "            temp = temp.next\n",
    "\n",
    "    def append_List(self, value):\n",
    "        new_node = Node(value)\n",
    "        self.tail.next = new_node\n",
    "        self.tail = new_node\n",
    "\n",
    "    def has_Loop(self):\n",
    "        slow = self.head\n",
    "        fast = self.head\n",
    "        while fast and fast.next:\n",
    "            slow = slow.next\n",
    "            fast = fast.next.next\n",
    "            if self.head == self.tail.next:\n",
    "                return True\n",
    "        return False\n",
    "\n",
    "my_LinkedList = LinkedList(1)\n",
    "my_LinkedList.append_List(2)\n",
    "my_LinkedList.append_List(3)\n",
    "my_LinkedList.append_List(4)\n",
    "my_LinkedList.append_List(5)\n",
    "my_LinkedList.append_List(6)\n",
    "my_LinkedList.tail.next = my_LinkedList.head\n",
    "print(my_LinkedList.has_Loop())\n",
    "\n",
    "print()\n",
    "my_LinkedList = LinkedList(1)\n",
    "my_LinkedList.append_List(2)\n",
    "my_LinkedList.append_List(3)\n",
    "my_LinkedList.append_List(4)\n",
    "my_LinkedList.append_List(5)\n",
    "my_LinkedList.append_List(6)\n",
    "print(my_LinkedList.has_Loop())"
   ]
  },
  {
   "cell_type": "code",
   "execution_count": null,
   "id": "b10cc230-51df-4208-92c4-26de07f33a9e",
   "metadata": {},
   "outputs": [],
   "source": []
  },
  {
   "cell_type": "code",
   "execution_count": null,
   "id": "71706dd2-89af-4af0-a106-5ec654e1aac1",
   "metadata": {},
   "outputs": [],
   "source": []
  },
  {
   "cell_type": "code",
   "execution_count": null,
   "id": "e1fb1544-2568-4d5a-af34-0e3c4fe8e8b2",
   "metadata": {},
   "outputs": [],
   "source": []
  }
 ],
 "metadata": {
  "kernelspec": {
   "display_name": "Python 3 (ipykernel)",
   "language": "python",
   "name": "python3"
  },
  "language_info": {
   "codemirror_mode": {
    "name": "ipython",
    "version": 3
   },
   "file_extension": ".py",
   "mimetype": "text/x-python",
   "name": "python",
   "nbconvert_exporter": "python",
   "pygments_lexer": "ipython3",
   "version": "3.12.7"
  }
 },
 "nbformat": 4,
 "nbformat_minor": 5
}
