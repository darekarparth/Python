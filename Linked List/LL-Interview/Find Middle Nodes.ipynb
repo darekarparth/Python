{
 "cells": [
  {
   "cell_type": "code",
   "execution_count": 9,
   "id": "f05c1b97-6114-44d5-acad-fbf29aa6525d",
   "metadata": {},
   "outputs": [
    {
     "name": "stdout",
     "output_type": "stream",
     "text": [
      "3\n",
      "\n",
      "3\n",
      "6\n"
     ]
    }
   ],
   "source": [
    "'''\n",
    "LL: Find Middle Node ( ** Interview Question)\n",
    "Implement the find_middle_node method for the LinkedList class.\n",
    "\n",
    "Note: this LinkedList implementation does not have a length member variable.\n",
    "\n",
    "If the linked list has an even number of nodes, return the first node of the second half of the list.\n",
    "\n",
    "Keep in mind the following requirements:\n",
    "\n",
    "The method should use a two-pointer approach, where one pointer (slow) moves one node at a time and the other pointer (fast) moves two nodes at a time.\n",
    "\n",
    "When the fast pointer reaches the end of the list or has no next node, the slow pointer should be at the middle node of the list.\n",
    "\n",
    "The method should return the middle node when the number of nodes is odd or the first node of the second half of the list if the list has an even number of nodes.\n",
    "\n",
    "The method should only traverse the linked list once.  In other words, you can only use one loop.\n",
    "'''\n",
    "\n",
    "class Node:\n",
    "    def __init__(self, value):\n",
    "        self.value = value\n",
    "        self.next = None\n",
    "\n",
    "class LinkedList:\n",
    "    def __init__(self, value):\n",
    "        new_node = Node(value)\n",
    "        self.head = new_node\n",
    "        self.tail = new_node\n",
    "        self.length = 1\n",
    "\n",
    "    def print_List(self):\n",
    "        temp = self.head\n",
    "        while temp is not None:\n",
    "            print(temp.value)\n",
    "            temp = temp.next\n",
    "\n",
    "    def append_List(self, value):\n",
    "        new_node = Node(value)\n",
    "        self.tail.next = new_node\n",
    "        self.tail = new_node\n",
    "\n",
    "my_LinkedList = LinkedList(3)\n",
    "print(my_LinkedList.head.value)\n",
    "print()\n",
    "my_LinkedList.append_List(6)\n",
    "my_LinkedList.print_List()"
   ]
  },
  {
   "cell_type": "code",
   "execution_count": null,
   "id": "914ddea7-e6d2-4efb-a980-221c3d34d215",
   "metadata": {},
   "outputs": [],
   "source": []
  },
  {
   "cell_type": "code",
   "execution_count": null,
   "id": "a188e660-50cb-4fba-9bf6-2b279d8b3255",
   "metadata": {},
   "outputs": [],
   "source": []
  },
  {
   "cell_type": "code",
   "execution_count": null,
   "id": "93eacff7-3d71-4fd8-80f3-5d802415c00e",
   "metadata": {},
   "outputs": [],
   "source": []
  }
 ],
 "metadata": {
  "kernelspec": {
   "display_name": "Python 3 (ipykernel)",
   "language": "python",
   "name": "python3"
  },
  "language_info": {
   "codemirror_mode": {
    "name": "ipython",
    "version": 3
   },
   "file_extension": ".py",
   "mimetype": "text/x-python",
   "name": "python",
   "nbconvert_exporter": "python",
   "pygments_lexer": "ipython3",
   "version": "3.12.7"
  }
 },
 "nbformat": 4,
 "nbformat_minor": 5
}
