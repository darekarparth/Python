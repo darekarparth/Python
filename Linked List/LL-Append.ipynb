{
 "cells": [
  {
   "cell_type": "code",
   "execution_count": 113,
   "id": "36475d49-9877-4b57-a7e7-4024965dcf1b",
   "metadata": {},
   "outputs": [
    {
     "name": "stdout",
     "output_type": "stream",
     "text": [
      "1\n",
      "2\n",
      "3\n",
      "4\n"
     ]
    }
   ],
   "source": [
    "class Node:\n",
    "    def __init__(self,value):\n",
    "        self.value = value\n",
    "        self.next = None #none initially\n",
    "\n",
    "class LinkedList:\n",
    "    def __init__(self, value):\n",
    "        new_node = Node(value)\n",
    "        self.head = new_node\n",
    "        self.tail = new_node\n",
    "\n",
    "    def print_list(self):\n",
    "         temp = self.head#creating a temp variable\n",
    "         while temp is not None:\n",
    "             print(temp.value)\n",
    "             temp = temp.next\n",
    "\n",
    "    def make_empty(self):\n",
    "        self.head = None\n",
    "        self.tail = None\n",
    "        self.length = 0\n",
    "\n",
    "    def append_list(self, value):\n",
    "        new_node = Node(value)\n",
    "        if self.head is None:\n",
    "            self.head = new_node\n",
    "            self.tail = new_node\n",
    "        else:\n",
    "            self.tail.next = new_node\n",
    "            self.tail = new_node\n",
    "      \n",
    "\n",
    "my_LinkedList = LinkedList(1)\n",
    "# my_LinkedList.make_empty()\n",
    "\n",
    "my_LinkedList.append_list(2)\n",
    "my_LinkedList.append_list(3)\n",
    "my_LinkedList.append_list(4)\n",
    "my_LinkedList.print_list()\n",
    "\n",
    "# print(my_LinkedList.head.value)"
   ]
  },
  {
   "cell_type": "code",
   "execution_count": null,
   "id": "83514f3a-5c7c-4d63-b3d6-0f5db2c84779",
   "metadata": {},
   "outputs": [],
   "source": []
  }
 ],
 "metadata": {
  "kernelspec": {
   "display_name": "Python 3 (ipykernel)",
   "language": "python",
   "name": "python3"
  },
  "language_info": {
   "codemirror_mode": {
    "name": "ipython",
    "version": 3
   },
   "file_extension": ".py",
   "mimetype": "text/x-python",
   "name": "python",
   "nbconvert_exporter": "python",
   "pygments_lexer": "ipython3",
   "version": "3.12.7"
  }
 },
 "nbformat": 4,
 "nbformat_minor": 5
}
