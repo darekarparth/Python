{
 "cells": [
  {
   "cell_type": "code",
   "execution_count": null,
   "id": "b9723bd2-9173-46f4-baf9-b2f1b21bf978",
   "metadata": {},
   "outputs": [],
   "source": [
    "# Big O -> 2^1-1 -> O(log n)"
   ]
  },
  {
   "cell_type": "code",
   "execution_count": 40,
   "id": "9df92769-3dd2-49cf-8a52-9af013a1538c",
   "metadata": {},
   "outputs": [
    {
     "name": "stdout",
     "output_type": "stream",
     "text": [
      "47\n",
      "21\n",
      "76\n",
      "True\n",
      "True\n"
     ]
    }
   ],
   "source": [
    "class Node:\n",
    "    def __init__(self, value):\n",
    "        self.value = value\n",
    "        self.left = None\n",
    "        self.right = None\n",
    "class BinarySearchTree:\n",
    "    def __init__(self):\n",
    "        self.root = None #keep none as initially\n",
    "\n",
    "    def insert(self, value):\n",
    "        new_node = Node(value)\n",
    "        if self.root is None:\n",
    "            self.root = new_node\n",
    "        temp = self.root\n",
    "        while temp is not None:\n",
    "            if new_node.value == temp.value:\n",
    "                return False\n",
    "            if new_node.value < temp.value:\n",
    "                if temp.left is None:\n",
    "                    temp.left = new_node\n",
    "                temp = temp.left\n",
    "            else:\n",
    "                if temp.right is None:\n",
    "                    temp.right = new_node\n",
    "                temp = temp.right \n",
    "       \n",
    "    \n",
    "    def contains(self, value):\n",
    "        if self.root is None:\n",
    "            return False\n",
    "        temp = self.root\n",
    "        while temp is not None:\n",
    "            if value < temp.value:\n",
    "                temp = temp.left\n",
    "            elif value > temp.value:\n",
    "                temp = temp.right\n",
    "            else:\n",
    "                return True\n",
    "                \n",
    "\n",
    "my_Tree = BinarySearchTree()\n",
    "my_Tree.insert(47)\n",
    "my_Tree.insert(21)\n",
    "my_Tree.insert(76)\n",
    "my_Tree.insert(18)\n",
    "my_Tree.insert(27)\n",
    "my_Tree.insert(52)\n",
    "my_Tree.insert(82)\n",
    "my_Tree.insert(13)\n",
    "my_Tree.insert(38)\n",
    "\n",
    "print(my_Tree.root.value)\n",
    "print(my_Tree.root.left.value)\n",
    "print(my_Tree.root.right.value)\n",
    "\n",
    "print(my_Tree.contains(27))\n",
    "print(my_Tree.contains(13))    "
   ]
  },
  {
   "cell_type": "code",
   "execution_count": null,
   "id": "bcd3bc6b-0255-471f-b07a-5c4d085da1cc",
   "metadata": {},
   "outputs": [],
   "source": []
  }
 ],
 "metadata": {
  "kernelspec": {
   "display_name": "Python 3 (ipykernel)",
   "language": "python",
   "name": "python3"
  },
  "language_info": {
   "codemirror_mode": {
    "name": "ipython",
    "version": 3
   },
   "file_extension": ".py",
   "mimetype": "text/x-python",
   "name": "python",
   "nbconvert_exporter": "python",
   "pygments_lexer": "ipython3",
   "version": "3.12.7"
  }
 },
 "nbformat": 4,
 "nbformat_minor": 5
}
